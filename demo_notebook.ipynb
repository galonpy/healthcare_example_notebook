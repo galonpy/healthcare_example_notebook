{
 "cells": [
  {
   "cell_type": "code",
   "execution_count": 1,
   "metadata": {},
   "outputs": [],
   "source": [
    "import pandas as pd\n",
    "from mlxtend.frequent_patterns import apriori, association_rules\n",
    "import numpy as np\n",
    "from sklearn.model_selection import train_test_split"
   ]
  },
  {
   "cell_type": "markdown",
   "metadata": {},
   "source": [
    "# Classifying Health Status \n"
   ]
  },
  {
   "cell_type": "markdown",
   "metadata": {},
   "source": [
    "This notebook:\n",
    "\n",
    "* Builds a characterization of a member’s health status based on their ccs diagnosis data.\n",
    "\n",
    "* Predicts this health status from a new member's prescription drug data alone"
   ]
  },
  {
   "cell_type": "markdown",
   "metadata": {},
   "source": [
    "## Exploring the Data"
   ]
  },
  {
   "cell_type": "markdown",
   "metadata": {},
   "source": [
    "Note: This whole notebook runs in around 10 minutes on my Macbook Air"
   ]
  },
  {
   "cell_type": "code",
   "execution_count": 2,
   "metadata": {},
   "outputs": [],
   "source": [
    "path = '/Users/gabrielalon/medical'\n",
    "ccs = pd.read_csv(f\"{path}/ccs.csv\")\n",
    "claim_lines = pd.read_csv(f\"{path}/claim_lines.csv\")\n",
    "prescription_drugs = pd.read_csv(f\"{path}/prescription_drugs.csv\")"
   ]
  },
  {
   "cell_type": "markdown",
   "metadata": {},
   "source": [
    "#### Claim Lines\n",
    "Models the diagnosis codes (ICD-10) that are present on claims for\n",
    "medical procedures and services. \n",
    "\n",
    "Every row lists one diagnosis given to a member on a certain day."
   ]
  },
  {
   "cell_type": "code",
   "execution_count": 3,
   "metadata": {},
   "outputs": [
    {
     "data": {
      "text/html": [
       "<div>\n",
       "<style scoped>\n",
       "    .dataframe tbody tr th:only-of-type {\n",
       "        vertical-align: middle;\n",
       "    }\n",
       "\n",
       "    .dataframe tbody tr th {\n",
       "        vertical-align: top;\n",
       "    }\n",
       "\n",
       "    .dataframe thead th {\n",
       "        text-align: right;\n",
       "    }\n",
       "</style>\n",
       "<table border=\"1\" class=\"dataframe\">\n",
       "  <thead>\n",
       "    <tr style=\"text-align: right;\">\n",
       "      <th></th>\n",
       "      <th>record_id</th>\n",
       "      <th>member_id</th>\n",
       "      <th>date_svc</th>\n",
       "      <th>diag1</th>\n",
       "    </tr>\n",
       "  </thead>\n",
       "  <tbody>\n",
       "    <tr>\n",
       "      <th>0</th>\n",
       "      <td>57738</td>\n",
       "      <td>M0000001</td>\n",
       "      <td>2015-12-06</td>\n",
       "      <td>N92.6</td>\n",
       "    </tr>\n",
       "  </tbody>\n",
       "</table>\n",
       "</div>"
      ],
      "text/plain": [
       "   record_id member_id    date_svc  diag1\n",
       "0      57738  M0000001  2015-12-06  N92.6"
      ]
     },
     "execution_count": 3,
     "metadata": {},
     "output_type": "execute_result"
    }
   ],
   "source": [
    "claim_lines.head(1) #checked more earlier\n",
    "#claim_lines.tail()\n",
    "#claim_lines.sample(5)\n",
    "#claim_lines.isna().sum()\n",
    "# #24 Nans for the date column found"
   ]
  },
  {
   "cell_type": "markdown",
   "metadata": {},
   "source": [
    "#### (CCS): A mapping of diagnosis codes to clinical categories : \n",
    "\n",
    "Diagnosis codes found on claim lines are mapped\n",
    "to higher level clinical categories. We use multi-level CCS. \n",
    "\n",
    "The diagnosis code formatting is slightly different in the outpatient claim lines and in this mapping, so we will correct for that\n",
    "\n",
    " Not all diagnosis codes have a matching CCS code"
   ]
  },
  {
   "cell_type": "code",
   "execution_count": 4,
   "metadata": {},
   "outputs": [
    {
     "data": {
      "text/html": [
       "<div>\n",
       "<style scoped>\n",
       "    .dataframe tbody tr th:only-of-type {\n",
       "        vertical-align: middle;\n",
       "    }\n",
       "\n",
       "    .dataframe tbody tr th {\n",
       "        vertical-align: top;\n",
       "    }\n",
       "\n",
       "    .dataframe thead th {\n",
       "        text-align: right;\n",
       "    }\n",
       "</style>\n",
       "<table border=\"1\" class=\"dataframe\">\n",
       "  <thead>\n",
       "    <tr style=\"text-align: right;\">\n",
       "      <th></th>\n",
       "      <th>diag</th>\n",
       "      <th>diag_desc</th>\n",
       "      <th>ccs_1_desc</th>\n",
       "      <th>ccs_2_desc</th>\n",
       "      <th>ccs_3_desc</th>\n",
       "    </tr>\n",
       "  </thead>\n",
       "  <tbody>\n",
       "    <tr>\n",
       "      <th>0</th>\n",
       "      <td>A000</td>\n",
       "      <td>Cholera due to Vibrio cholerae 01, biovar chol...</td>\n",
       "      <td>Diseases of the digestive system</td>\n",
       "      <td>Intestinal infection [135.]</td>\n",
       "      <td>Intestinal infection</td>\n",
       "    </tr>\n",
       "  </tbody>\n",
       "</table>\n",
       "</div>"
      ],
      "text/plain": [
       "   diag                                          diag_desc  \\\n",
       "0  A000  Cholera due to Vibrio cholerae 01, biovar chol...   \n",
       "\n",
       "                         ccs_1_desc                   ccs_2_desc  \\\n",
       "0  Diseases of the digestive system  Intestinal infection [135.]   \n",
       "\n",
       "             ccs_3_desc  \n",
       "0  Intestinal infection  "
      ]
     },
     "execution_count": 4,
     "metadata": {},
     "output_type": "execute_result"
    }
   ],
   "source": [
    "ccs.head(1) #checked more earlier\n",
    "#ccs.tail()\n",
    "#ccs.sample(5)\n",
    "#cs.isna().sum() #No Nans found\n",
    "#ccs['diag'].head(15)"
   ]
  },
  {
   "cell_type": "markdown",
   "metadata": {},
   "source": [
    "#### (NDC): Prescription drug data: \n",
    "\n",
    "Every entry in this data set corresponds to a drug prescription filled by a member.\n",
    "\n",
    "The drugs are identified by their National Drug Code (NDC).\n",
    "\n",
    "The table provides additional information about which drug category, drug group and drug class a specific drug belongs within"
   ]
  },
  {
   "cell_type": "code",
   "execution_count": 5,
   "metadata": {},
   "outputs": [
    {
     "data": {
      "text/html": [
       "<div>\n",
       "<style scoped>\n",
       "    .dataframe tbody tr th:only-of-type {\n",
       "        vertical-align: middle;\n",
       "    }\n",
       "\n",
       "    .dataframe tbody tr th {\n",
       "        vertical-align: top;\n",
       "    }\n",
       "\n",
       "    .dataframe thead th {\n",
       "        text-align: right;\n",
       "    }\n",
       "</style>\n",
       "<table border=\"1\" class=\"dataframe\">\n",
       "  <thead>\n",
       "    <tr style=\"text-align: right;\">\n",
       "      <th></th>\n",
       "      <th>record_id</th>\n",
       "      <th>member_id</th>\n",
       "      <th>date_svc</th>\n",
       "      <th>ndc</th>\n",
       "      <th>drug_category</th>\n",
       "      <th>drug_group</th>\n",
       "      <th>drug_class</th>\n",
       "    </tr>\n",
       "  </thead>\n",
       "  <tbody>\n",
       "    <tr>\n",
       "      <th>0</th>\n",
       "      <td>4115084976453758912</td>\n",
       "      <td>M0023556</td>\n",
       "      <td>2016-05-08</td>\n",
       "      <td>51285040702</td>\n",
       "      <td>Estrogens</td>\n",
       "      <td>Estrogens</td>\n",
       "      <td>Estrogens</td>\n",
       "    </tr>\n",
       "  </tbody>\n",
       "</table>\n",
       "</div>"
      ],
      "text/plain": [
       "             record_id member_id    date_svc          ndc drug_category  \\\n",
       "0  4115084976453758912  M0023556  2016-05-08  51285040702     Estrogens   \n",
       "\n",
       "  drug_group drug_class  \n",
       "0  Estrogens  Estrogens  "
      ]
     },
     "execution_count": 5,
     "metadata": {},
     "output_type": "execute_result"
    }
   ],
   "source": [
    "prescription_drugs.head(1) #checked more earlier\n",
    "#prescription_drugs.tail()\n",
    "#prescription_drugs.sample(5)\n",
    "#prescription_drugs.isna().sum() #no nans found"
   ]
  },
  {
   "cell_type": "markdown",
   "metadata": {},
   "source": [
    "## Data Processing"
   ]
  },
  {
   "cell_type": "markdown",
   "metadata": {},
   "source": [
    "1. Join claim_lines and ccs and account for \" Not all diagnosis codes have a matching CCS code\"\n",
    "\n",
    "2. Then join this with prescription_drugs on member_id\n",
    "\n",
    "    Then we will have each member_id with a diagnosis, more clinical info on that diagnosis, their prescription drug information, dates for their claim and prescription, etc."
   ]
  },
  {
   "cell_type": "code",
   "execution_count": 6,
   "metadata": {},
   "outputs": [],
   "source": [
    "#Data Processing 1\n",
    "\n",
    "#Removoving the period \".\" increased exact matches from 154584 to 1917893\n",
    "\n",
    "#before_fix = claim_lines.merge(ccs, left_on='diag1', right_on='diag',how='inner')\n",
    "#print(len(before_fix)) #154584\n",
    "claim_lines['diag1'] = claim_lines['diag1'].str.replace('.', '', regex=False)"
   ]
  },
  {
   "cell_type": "code",
   "execution_count": 7,
   "metadata": {},
   "outputs": [
    {
     "data": {
      "text/html": [
       "<div>\n",
       "<style scoped>\n",
       "    .dataframe tbody tr th:only-of-type {\n",
       "        vertical-align: middle;\n",
       "    }\n",
       "\n",
       "    .dataframe tbody tr th {\n",
       "        vertical-align: top;\n",
       "    }\n",
       "\n",
       "    .dataframe thead th {\n",
       "        text-align: right;\n",
       "    }\n",
       "</style>\n",
       "<table border=\"1\" class=\"dataframe\">\n",
       "  <thead>\n",
       "    <tr style=\"text-align: right;\">\n",
       "      <th></th>\n",
       "      <th>record_id</th>\n",
       "      <th>member_id</th>\n",
       "      <th>date_svc</th>\n",
       "      <th>diag1</th>\n",
       "      <th>diag</th>\n",
       "      <th>diag_desc</th>\n",
       "      <th>ccs_1_desc</th>\n",
       "      <th>ccs_2_desc</th>\n",
       "      <th>ccs_3_desc</th>\n",
       "    </tr>\n",
       "  </thead>\n",
       "  <tbody>\n",
       "    <tr>\n",
       "      <th>0</th>\n",
       "      <td>57738</td>\n",
       "      <td>M0000001</td>\n",
       "      <td>2015-12-06</td>\n",
       "      <td>N926</td>\n",
       "      <td>N926</td>\n",
       "      <td>Irregular menstruation, unspecified</td>\n",
       "      <td>Diseases of the genitourinary system</td>\n",
       "      <td>Diseases of female genital organs</td>\n",
       "      <td>Menstrual disorders</td>\n",
       "    </tr>\n",
       "  </tbody>\n",
       "</table>\n",
       "</div>"
      ],
      "text/plain": [
       "   record_id member_id    date_svc diag1  diag  \\\n",
       "0      57738  M0000001  2015-12-06  N926  N926   \n",
       "\n",
       "                             diag_desc                            ccs_1_desc  \\\n",
       "0  Irregular menstruation, unspecified  Diseases of the genitourinary system   \n",
       "\n",
       "                          ccs_2_desc           ccs_3_desc  \n",
       "0  Diseases of female genital organs  Menstrual disorders  "
      ]
     },
     "execution_count": 7,
     "metadata": {},
     "output_type": "execute_result"
    }
   ],
   "source": [
    "claim_and_clinical = claim_lines.merge(ccs, left_on='diag1', right_on='diag',how='inner')\n",
    "#print(len(claim_and_clinical)) #1917893\n",
    "#claim_and_clinical.isna().sum() #23 date_svc are missing\n",
    "claim_and_clinical.head(1) \n"
   ]
  },
  {
   "cell_type": "code",
   "execution_count": 8,
   "metadata": {},
   "outputs": [],
   "source": [
    "#Data Processing 2\n",
    "\n",
    "claim_clinical_prescription = claim_and_clinical.merge(prescription_drugs, on='member_id',how='inner')\n",
    "claim_clinical_prescription.rename(columns={'date_svc_x': 'claim_date','date_svc_y':'prescription_date','record_id_x':'record_id_claim','record_id_y':'record_id_prescription'}, inplace=True)\n",
    "#I confirmed that the columns were renamed appropriately with a manual check from the prescription data \n",
    "#source and the claim data source"
   ]
  },
  {
   "cell_type": "code",
   "execution_count": 9,
   "metadata": {},
   "outputs": [
    {
     "name": "stdout",
     "output_type": "stream",
     "text": [
      "57299563\n",
      "194272\n"
     ]
    }
   ],
   "source": [
    "claim_clinical_prescription.head(1)\n",
    "print(len(claim_clinical_prescription)) #57,299,563\n",
    "print(len(claim_clinical_prescription['member_id'].unique()))"
   ]
  },
  {
   "cell_type": "markdown",
   "metadata": {},
   "source": [
    "After joining the data, there are 194,272 unique member_id values and 57 Million Records"
   ]
  },
  {
   "cell_type": "code",
   "execution_count": 10,
   "metadata": {},
   "outputs": [],
   "source": [
    "#claim_clinical_prescription.isna().sum()\n",
    "#claim_date: 968 missing    "
   ]
  },
  {
   "cell_type": "markdown",
   "metadata": {},
   "source": [
    "### Interpreting the Data for a Single Member"
   ]
  },
  {
   "cell_type": "markdown",
   "metadata": {},
   "source": [
    "##### Member M0000001 has only one prescription record, which of 15 claims should we associate it with?\n"
   ]
  },
  {
   "cell_type": "markdown",
   "metadata": {},
   "source": [
    "The prescription is for herpes but the medical records seem pregnancy related. I am not sure\n",
    "if there should be a direct link between these."
   ]
  },
  {
   "cell_type": "markdown",
   "metadata": {},
   "source": [
    "**To automate** this we can use the aprori algorithm to find likely rules based\n",
    " relationships between each  prescription and possible medical condition that it\n",
    " should be linked to. This will be imperfect but useful"
   ]
  },
  {
   "cell_type": "code",
   "execution_count": 11,
   "metadata": {},
   "outputs": [
    {
     "data": {
      "text/html": [
       "<div>\n",
       "<style scoped>\n",
       "    .dataframe tbody tr th:only-of-type {\n",
       "        vertical-align: middle;\n",
       "    }\n",
       "\n",
       "    .dataframe tbody tr th {\n",
       "        vertical-align: top;\n",
       "    }\n",
       "\n",
       "    .dataframe thead th {\n",
       "        text-align: right;\n",
       "    }\n",
       "</style>\n",
       "<table border=\"1\" class=\"dataframe\">\n",
       "  <thead>\n",
       "    <tr style=\"text-align: right;\">\n",
       "      <th></th>\n",
       "      <th>record_id</th>\n",
       "      <th>member_id</th>\n",
       "      <th>date_svc</th>\n",
       "      <th>ndc</th>\n",
       "      <th>drug_category</th>\n",
       "      <th>drug_group</th>\n",
       "      <th>drug_class</th>\n",
       "    </tr>\n",
       "  </thead>\n",
       "  <tbody>\n",
       "    <tr>\n",
       "      <th>397235</th>\n",
       "      <td>1990699168614991881</td>\n",
       "      <td>M0000001</td>\n",
       "      <td>2016-03-25</td>\n",
       "      <td>378427593</td>\n",
       "      <td>Antivirals</td>\n",
       "      <td>Herpes Agents</td>\n",
       "      <td>Herpes Agents - Purine Analogues</td>\n",
       "    </tr>\n",
       "  </tbody>\n",
       "</table>\n",
       "</div>"
      ],
      "text/plain": [
       "                  record_id member_id    date_svc        ndc drug_category  \\\n",
       "397235  1990699168614991881  M0000001  2016-03-25  378427593    Antivirals   \n",
       "\n",
       "           drug_group                        drug_class  \n",
       "397235  Herpes Agents  Herpes Agents - Purine Analogues  "
      ]
     },
     "execution_count": 11,
     "metadata": {},
     "output_type": "execute_result"
    }
   ],
   "source": [
    "prescription_drugs[prescription_drugs['member_id'] == 'M0000001']"
   ]
  },
  {
   "cell_type": "code",
   "execution_count": 12,
   "metadata": {},
   "outputs": [
    {
     "name": "stdout",
     "output_type": "stream",
     "text": [
      "15 unique_claim_records for M0000001\n"
     ]
    }
   ],
   "source": [
    "#This person has 15 claim records and 6 unique diagnosis codes\n",
    "#6 unique diag_desc although all could be related to pregnancy\n",
    "#ccs_1_desc had 3 unique, ccs_2_desc had 4 unique, ccs_3_desc had 3 unique\n",
    "\n",
    "member = 'M0000001'\n",
    "evaluate_member = claim_and_clinical[claim_and_clinical['member_id'] == member ]\n",
    "unique_claim_records = (len(evaluate_member['record_id'].unique())) #15\n",
    "print(f\"{unique_claim_records} unique_claim_records for {member}\")\n",
    "#evaluate_member['diag'].unique() #6 unique diagnosis codes\n",
    "#evaluate_member['diag_desc'].unique() #6 unique diag_desc although all could be related to pregnancy\n",
    "#evaluate_member['ccs_1_desc'].unique()  #3 unique\n",
    "#evaluate_member['ccs_2_desc'].unique()  #4 unique\n",
    "#evaluate_member['ccs_3_desc'].unique()  #3 unique\n",
    "#evaluate_member #uncomment to see more about this member"
   ]
  },
  {
   "cell_type": "markdown",
   "metadata": {},
   "source": [
    "### Finding Relevant Patterns: Apriori Algorithm"
   ]
  },
  {
   "cell_type": "markdown",
   "metadata": {},
   "source": [
    "A test set is held out for later. Also, a random sample of training records is set for improved efficiency."
   ]
  },
  {
   "cell_type": "code",
   "execution_count": 13,
   "metadata": {},
   "outputs": [],
   "source": [
    "claim_clinical_prescription, test_df = train_test_split(claim_clinical_prescription, test_size=0.05, random_state=42)\n",
    "\n",
    "total_training_rows =10000\n",
    "min_samples = 10 #min count for antecedent and consequent showing up together in the data\n",
    "min_confidence_ratio = 0.001 #probability of seeing the consequent given the antecedent being present "
   ]
  },
  {
   "cell_type": "code",
   "execution_count": 14,
   "metadata": {},
   "outputs": [],
   "source": [
    "#Apriori Algorithm\n",
    "\n",
    "#its more effective between ndc and ccs_1_desc than ndc and diag\n",
    "def compute_apriori_rules(total_training_rows=total_training_rows,min_samples=min_samples,min_confidence_ratio=min_confidence_ratio,description_column ='ccs_1_desc',random_state =42):\n",
    "    min_support = min_samples/total_training_rows #this is the min proportion of samples for a pattern to show up.\n",
    "    sample_data = claim_clinical_prescription.sample(total_training_rows, random_state =random_state)\n",
    "    sample_apriori = sample_data.dropna()\n",
    "    columns = ['ndc','ccs_1_desc'] #diag\n",
    "    df_onehot = pd.get_dummies(sample_apriori[columns], columns=columns)\n",
    "    frequent_itemsets = apriori(df_onehot, min_support=min_support, use_colnames=True) \n",
    "    rules = association_rules(frequent_itemsets, metric=\"confidence\", min_threshold=min_confidence_ratio)\n",
    "\n",
    "    rules['count'] = rules['support'].apply(lambda x: round(total_training_rows*x))\n",
    "    rules['count_antec'] = rules['antecedent support'].apply(lambda x: round(total_training_rows*x))\n",
    "    rules['count_conseq'] = rules['consequent support'].apply(lambda x: round(total_training_rows*x))\n",
    "\n",
    "    rules = rules[['antecedents', 'consequents','count_antec','count_conseq','count',\n",
    "        'confidence']] #'lift', 'leverage','conviction', 'zhangs_metric' removed for simplicity\n",
    "    return rules,test_df"
   ]
  },
  {
   "cell_type": "code",
   "execution_count": 15,
   "metadata": {},
   "outputs": [],
   "source": [
    "rules,test_df = compute_apriori_rules()\n",
    "#rules.head(2)\n",
    "#print(len(rules)) \n",
    "#12 rules when total_training_rows =10000, 80 rules when 20000, 238 rules when 30000 (2 min 3 seconds on laptop)"
   ]
  },
  {
   "cell_type": "code",
   "execution_count": 16,
   "metadata": {},
   "outputs": [
    {
     "data": {
      "text/plain": [
       "272"
      ]
     },
     "execution_count": 16,
     "metadata": {},
     "output_type": "execute_result"
    }
   ],
   "source": [
    "rules_larger,test_df =compute_apriori_rules(total_training_rows=30000,min_samples=min_samples,min_confidence_ratio=min_confidence_ratio)\n",
    "len(rules_larger)"
   ]
  },
  {
   "cell_type": "code",
   "execution_count": 17,
   "metadata": {},
   "outputs": [],
   "source": [
    "#filter out when the disease ccs is the antecedent\n",
    "def check_ndc_in_frozenset(fs):\n",
    "    for elem in fs:\n",
    "        if 'ndc' in elem:\n",
    "            return True\n",
    "    return False\n",
    "\n",
    "rules_larger = rules_larger[rules_larger['antecedents'].apply(check_ndc_in_frozenset)]"
   ]
  },
  {
   "cell_type": "markdown",
   "metadata": {},
   "source": [
    "##### Useful Definitions: [Source Link](https://rasbt.github.io/mlxtend/user_guide/frequent_patterns/association_rules/)\n",
    "**antecedent** is hypothesized to occur before the **consequent**. But here its sufficient to just use the relationships learned without having this as a hard assumption\n",
    "\n",
    "**confidence** is the probability of seeing the consequent (ccs disease) in a transaction given that it also contains the antecedent (ndc drug code)"
   ]
  },
  {
   "cell_type": "code",
   "execution_count": 18,
   "metadata": {},
   "outputs": [
    {
     "data": {
      "text/html": [
       "<div>\n",
       "<style scoped>\n",
       "    .dataframe tbody tr th:only-of-type {\n",
       "        vertical-align: middle;\n",
       "    }\n",
       "\n",
       "    .dataframe tbody tr th {\n",
       "        vertical-align: top;\n",
       "    }\n",
       "\n",
       "    .dataframe thead th {\n",
       "        text-align: right;\n",
       "    }\n",
       "</style>\n",
       "<table border=\"1\" class=\"dataframe\">\n",
       "  <thead>\n",
       "    <tr style=\"text-align: right;\">\n",
       "      <th></th>\n",
       "      <th>antecedents</th>\n",
       "      <th>consequents</th>\n",
       "      <th>count_antec</th>\n",
       "      <th>count_conseq</th>\n",
       "      <th>count</th>\n",
       "      <th>confidence</th>\n",
       "    </tr>\n",
       "  </thead>\n",
       "  <tbody>\n",
       "    <tr>\n",
       "      <th>1</th>\n",
       "      <td>(ndc_2446230)</td>\n",
       "      <td>(ccs_1_desc_Diseases of the musculoskeletal sy...</td>\n",
       "      <td>46</td>\n",
       "      <td>4619</td>\n",
       "      <td>10</td>\n",
       "      <td>0.217391</td>\n",
       "    </tr>\n",
       "    <tr>\n",
       "      <th>3</th>\n",
       "      <td>(ndc_2751001)</td>\n",
       "      <td>(ccs_1_desc_Endocrine; nutritional; and metabo...</td>\n",
       "      <td>22</td>\n",
       "      <td>2588</td>\n",
       "      <td>10</td>\n",
       "      <td>0.454545</td>\n",
       "    </tr>\n",
       "    <tr>\n",
       "      <th>5</th>\n",
       "      <td>(ndc_2879959)</td>\n",
       "      <td>(ccs_1_desc_Diseases of the musculoskeletal sy...</td>\n",
       "      <td>45</td>\n",
       "      <td>4619</td>\n",
       "      <td>15</td>\n",
       "      <td>0.333333</td>\n",
       "    </tr>\n",
       "  </tbody>\n",
       "</table>\n",
       "</div>"
      ],
      "text/plain": [
       "     antecedents                                        consequents  \\\n",
       "1  (ndc_2446230)  (ccs_1_desc_Diseases of the musculoskeletal sy...   \n",
       "3  (ndc_2751001)  (ccs_1_desc_Endocrine; nutritional; and metabo...   \n",
       "5  (ndc_2879959)  (ccs_1_desc_Diseases of the musculoskeletal sy...   \n",
       "\n",
       "   count_antec  count_conseq  count  confidence  \n",
       "1           46          4619     10    0.217391  \n",
       "3           22          2588     10    0.454545  \n",
       "5           45          4619     15    0.333333  "
      ]
     },
     "execution_count": 18,
     "metadata": {},
     "output_type": "execute_result"
    }
   ],
   "source": [
    "rules_larger.head(3)"
   ]
  },
  {
   "cell_type": "markdown",
   "metadata": {},
   "source": [
    "#### Summary Table of the Rules Learned by Apriori"
   ]
  },
  {
   "cell_type": "code",
   "execution_count": 19,
   "metadata": {},
   "outputs": [
    {
     "data": {
      "text/html": [
       "<div>\n",
       "<style scoped>\n",
       "    .dataframe tbody tr th:only-of-type {\n",
       "        vertical-align: middle;\n",
       "    }\n",
       "\n",
       "    .dataframe tbody tr th {\n",
       "        vertical-align: top;\n",
       "    }\n",
       "\n",
       "    .dataframe thead th {\n",
       "        text-align: right;\n",
       "    }\n",
       "</style>\n",
       "<table border=\"1\" class=\"dataframe\">\n",
       "  <thead>\n",
       "    <tr style=\"text-align: right;\">\n",
       "      <th></th>\n",
       "      <th>count_antec</th>\n",
       "      <th>count_conseq</th>\n",
       "      <th>count</th>\n",
       "      <th>confidence</th>\n",
       "    </tr>\n",
       "  </thead>\n",
       "  <tbody>\n",
       "    <tr>\n",
       "      <th>count</th>\n",
       "      <td>136.000000</td>\n",
       "      <td>136.000000</td>\n",
       "      <td>136.000000</td>\n",
       "      <td>136.000000</td>\n",
       "    </tr>\n",
       "    <tr>\n",
       "      <th>mean</th>\n",
       "      <td>76.845588</td>\n",
       "      <td>3638.110294</td>\n",
       "      <td>13.551471</td>\n",
       "      <td>0.223967</td>\n",
       "    </tr>\n",
       "    <tr>\n",
       "      <th>std</th>\n",
       "      <td>52.391246</td>\n",
       "      <td>971.993863</td>\n",
       "      <td>5.872497</td>\n",
       "      <td>0.109538</td>\n",
       "    </tr>\n",
       "    <tr>\n",
       "      <th>min</th>\n",
       "      <td>16.000000</td>\n",
       "      <td>810.000000</td>\n",
       "      <td>10.000000</td>\n",
       "      <td>0.046083</td>\n",
       "    </tr>\n",
       "    <tr>\n",
       "      <th>25%</th>\n",
       "      <td>44.750000</td>\n",
       "      <td>2797.000000</td>\n",
       "      <td>10.000000</td>\n",
       "      <td>0.144410</td>\n",
       "    </tr>\n",
       "    <tr>\n",
       "      <th>50%</th>\n",
       "      <td>60.000000</td>\n",
       "      <td>3984.000000</td>\n",
       "      <td>11.000000</td>\n",
       "      <td>0.197183</td>\n",
       "    </tr>\n",
       "    <tr>\n",
       "      <th>75%</th>\n",
       "      <td>86.000000</td>\n",
       "      <td>4619.000000</td>\n",
       "      <td>15.000000</td>\n",
       "      <td>0.275159</td>\n",
       "    </tr>\n",
       "    <tr>\n",
       "      <th>max</th>\n",
       "      <td>217.000000</td>\n",
       "      <td>4619.000000</td>\n",
       "      <td>57.000000</td>\n",
       "      <td>0.625000</td>\n",
       "    </tr>\n",
       "  </tbody>\n",
       "</table>\n",
       "</div>"
      ],
      "text/plain": [
       "       count_antec  count_conseq       count  confidence\n",
       "count   136.000000    136.000000  136.000000  136.000000\n",
       "mean     76.845588   3638.110294   13.551471    0.223967\n",
       "std      52.391246    971.993863    5.872497    0.109538\n",
       "min      16.000000    810.000000   10.000000    0.046083\n",
       "25%      44.750000   2797.000000   10.000000    0.144410\n",
       "50%      60.000000   3984.000000   11.000000    0.197183\n",
       "75%      86.000000   4619.000000   15.000000    0.275159\n",
       "max     217.000000   4619.000000   57.000000    0.625000"
      ]
     },
     "execution_count": 19,
     "metadata": {},
     "output_type": "execute_result"
    }
   ],
   "source": [
    "rules_larger.describe()"
   ]
  },
  {
   "cell_type": "markdown",
   "metadata": {},
   "source": [
    "### Observing Outlier Behaviors\n",
    "\n",
    "The following table highlights high count antecedents (ccs disease code) that had a low probability (\"confidence\")\n",
    "of that consequent (ndc drug code) occuring with it. The total times this occured is in the \"count\" column"
   ]
  },
  {
   "cell_type": "markdown",
   "metadata": {},
   "source": [
    "\n",
    "**Example Use Case 1**: Finding **members that are not receiving their required medical care**\n",
    "\n",
    "AND \n",
    "\n",
    "**Example Use Case 2**: Finding **members with unusual care patterns**\n",
    "\n",
    "\n",
    "We can filter the apriori table by their diagnosis, and then we can compare their prescriptions to those found by the apriori algorithm. The apriori algorithm could discover that the prescription has never been recommended for that diagnosis, or that it is rarely given."
   ]
  },
  {
   "cell_type": "code",
   "execution_count": 20,
   "metadata": {},
   "outputs": [
    {
     "data": {
      "text/html": [
       "<div>\n",
       "<style scoped>\n",
       "    .dataframe tbody tr th:only-of-type {\n",
       "        vertical-align: middle;\n",
       "    }\n",
       "\n",
       "    .dataframe tbody tr th {\n",
       "        vertical-align: top;\n",
       "    }\n",
       "\n",
       "    .dataframe thead th {\n",
       "        text-align: right;\n",
       "    }\n",
       "</style>\n",
       "<table border=\"1\" class=\"dataframe\">\n",
       "  <thead>\n",
       "    <tr style=\"text-align: right;\">\n",
       "      <th></th>\n",
       "      <th>antecedents</th>\n",
       "      <th>consequents</th>\n",
       "      <th>count_antec</th>\n",
       "      <th>count_conseq</th>\n",
       "      <th>count</th>\n",
       "      <th>confidence</th>\n",
       "    </tr>\n",
       "  </thead>\n",
       "  <tbody>\n",
       "    <tr>\n",
       "      <th>197</th>\n",
       "      <td>(ndc_59310057922)</td>\n",
       "      <td>(ccs_1_desc_Neoplasms)</td>\n",
       "      <td>217</td>\n",
       "      <td>1723</td>\n",
       "      <td>10</td>\n",
       "      <td>0.046083</td>\n",
       "    </tr>\n",
       "    <tr>\n",
       "      <th>187</th>\n",
       "      <td>(ndc_59310057922)</td>\n",
       "      <td>(ccs_1_desc_Diseases of the digestive system)</td>\n",
       "      <td>217</td>\n",
       "      <td>1577</td>\n",
       "      <td>11</td>\n",
       "      <td>0.050691</td>\n",
       "    </tr>\n",
       "    <tr>\n",
       "      <th>194</th>\n",
       "      <td>(ndc_59310057922)</td>\n",
       "      <td>(ccs_1_desc_Injury and poisoning)</td>\n",
       "      <td>217</td>\n",
       "      <td>1356</td>\n",
       "      <td>11</td>\n",
       "      <td>0.050691</td>\n",
       "    </tr>\n",
       "    <tr>\n",
       "      <th>191</th>\n",
       "      <td>(ndc_59310057922)</td>\n",
       "      <td>(ccs_1_desc_Diseases of the nervous system and...</td>\n",
       "      <td>217</td>\n",
       "      <td>2069</td>\n",
       "      <td>17</td>\n",
       "      <td>0.078341</td>\n",
       "    </tr>\n",
       "    <tr>\n",
       "      <th>184</th>\n",
       "      <td>(ndc_59310057922)</td>\n",
       "      <td>(ccs_1_desc_Diseases of the circulatory system)</td>\n",
       "      <td>217</td>\n",
       "      <td>3231</td>\n",
       "      <td>19</td>\n",
       "      <td>0.087558</td>\n",
       "    </tr>\n",
       "  </tbody>\n",
       "</table>\n",
       "</div>"
      ],
      "text/plain": [
       "           antecedents                                        consequents  \\\n",
       "197  (ndc_59310057922)                             (ccs_1_desc_Neoplasms)   \n",
       "187  (ndc_59310057922)      (ccs_1_desc_Diseases of the digestive system)   \n",
       "194  (ndc_59310057922)                  (ccs_1_desc_Injury and poisoning)   \n",
       "191  (ndc_59310057922)  (ccs_1_desc_Diseases of the nervous system and...   \n",
       "184  (ndc_59310057922)    (ccs_1_desc_Diseases of the circulatory system)   \n",
       "\n",
       "     count_antec  count_conseq  count  confidence  \n",
       "197          217          1723     10    0.046083  \n",
       "187          217          1577     11    0.050691  \n",
       "194          217          1356     11    0.050691  \n",
       "191          217          2069     17    0.078341  \n",
       "184          217          3231     19    0.087558  "
      ]
     },
     "execution_count": 20,
     "metadata": {},
     "output_type": "execute_result"
    }
   ],
   "source": [
    "rules_larger = rules_larger.sort_values(['count_antec', 'confidence'], ascending =[False, True])\n",
    "rules_larger.head(5)"
   ]
  },
  {
   "cell_type": "markdown",
   "metadata": {},
   "source": [
    "## Retrieving Health Status"
   ]
  },
  {
   "cell_type": "code",
   "execution_count": 21,
   "metadata": {},
   "outputs": [],
   "source": [
    "all_medical_descriptions = claim_clinical_prescription.groupby('member_id')['ccs_1_desc'].unique().reset_index()"
   ]
  },
  {
   "cell_type": "code",
   "execution_count": 22,
   "metadata": {},
   "outputs": [],
   "source": [
    "def all_health_status(whole_df=all_medical_descriptions):\n",
    "    # Creating health description per member\n",
    "    def create_description(row):\n",
    "        # Filter out empty strings and 'nan' strings\n",
    "        filtered_issues = list(filter(lambda x: x not in ('', 'nan'), row['ccs_1_desc']))\n",
    "        \n",
    "        if len(filtered_issues) == 0:\n",
    "            return f\"Member {row['member_id']} has no health issues recorded.\"\n",
    "        \n",
    "        else:\n",
    "            health_issues = ', '.join(filtered_issues).lower()\n",
    "            return f\"Member {row['member_id']} had {health_issues}\"\n",
    "\n",
    "    all_medical_descriptions['high_level_desc'] = all_medical_descriptions.apply(create_description, axis=1)\n",
    "    return all_medical_descriptions"
   ]
  },
  {
   "cell_type": "code",
   "execution_count": 23,
   "metadata": {},
   "outputs": [],
   "source": [
    "health_status_df = all_health_status(all_medical_descriptions)"
   ]
  },
  {
   "cell_type": "code",
   "execution_count": 24,
   "metadata": {},
   "outputs": [
    {
     "data": {
      "text/html": [
       "<div>\n",
       "<style scoped>\n",
       "    .dataframe tbody tr th:only-of-type {\n",
       "        vertical-align: middle;\n",
       "    }\n",
       "\n",
       "    .dataframe tbody tr th {\n",
       "        vertical-align: top;\n",
       "    }\n",
       "\n",
       "    .dataframe thead th {\n",
       "        text-align: right;\n",
       "    }\n",
       "</style>\n",
       "<table border=\"1\" class=\"dataframe\">\n",
       "  <thead>\n",
       "    <tr style=\"text-align: right;\">\n",
       "      <th></th>\n",
       "      <th>member_id</th>\n",
       "      <th>ccs_1_desc</th>\n",
       "      <th>high_level_desc</th>\n",
       "    </tr>\n",
       "  </thead>\n",
       "  <tbody>\n",
       "    <tr>\n",
       "      <th>0</th>\n",
       "      <td>M0000001</td>\n",
       "      <td>[Certain conditions originating in the perinatal period, Diseases of the genitourinary system, Complications of pregnancy; childbirth; and the puerperium]</td>\n",
       "      <td>Member M0000001 had certain conditions originating in the perinatal period, diseases of the genitourinary system, complications of pregnancy; childbirth; and the puerperium</td>\n",
       "    </tr>\n",
       "    <tr>\n",
       "      <th>1</th>\n",
       "      <td>M0000002</td>\n",
       "      <td>[Symptoms; signs; and ill-defined conditions and factors influencing health status, Diseases of the circulatory system, Residual codes; unclassified; all E codes [259. and 260.], Mental Illness]</td>\n",
       "      <td>Member M0000002 had symptoms; signs; and ill-defined conditions and factors influencing health status, diseases of the circulatory system, residual codes; unclassified; all e codes [259. and 260.], mental illness</td>\n",
       "    </tr>\n",
       "  </tbody>\n",
       "</table>\n",
       "</div>"
      ],
      "text/plain": [
       "  member_id  \\\n",
       "0  M0000001   \n",
       "1  M0000002   \n",
       "\n",
       "                                                                                                                                                                                           ccs_1_desc  \\\n",
       "0                                          [Certain conditions originating in the perinatal period, Diseases of the genitourinary system, Complications of pregnancy; childbirth; and the puerperium]   \n",
       "1  [Symptoms; signs; and ill-defined conditions and factors influencing health status, Diseases of the circulatory system, Residual codes; unclassified; all E codes [259. and 260.], Mental Illness]   \n",
       "\n",
       "                                                                                                                                                                                                        high_level_desc  \n",
       "0                                          Member M0000001 had certain conditions originating in the perinatal period, diseases of the genitourinary system, complications of pregnancy; childbirth; and the puerperium  \n",
       "1  Member M0000002 had symptoms; signs; and ill-defined conditions and factors influencing health status, diseases of the circulatory system, residual codes; unclassified; all e codes [259. and 260.], mental illness  "
      ]
     },
     "execution_count": 24,
     "metadata": {},
     "output_type": "execute_result"
    }
   ],
   "source": [
    "pd.set_option('display.max_colwidth', None)\n",
    "health_status_df.head(2)"
   ]
  },
  {
   "cell_type": "code",
   "execution_count": 25,
   "metadata": {},
   "outputs": [
    {
     "name": "stdout",
     "output_type": "stream",
     "text": [
      "Above the health_status_df has the health status of 193794 members\n"
     ]
    }
   ],
   "source": [
    "print(f\"Above the health_status_df has the health status of {len(health_status_df)} members\")"
   ]
  },
  {
   "cell_type": "markdown",
   "metadata": {},
   "source": [
    "#### Find Health Status by Single Member ID"
   ]
  },
  {
   "cell_type": "code",
   "execution_count": 26,
   "metadata": {},
   "outputs": [],
   "source": [
    "single_member_id = 'M0000001' ###Can Change it here"
   ]
  },
  {
   "cell_type": "code",
   "execution_count": 27,
   "metadata": {},
   "outputs": [
    {
     "name": "stdout",
     "output_type": "stream",
     "text": [
      "Member M0000001 had certain conditions originating in the perinatal period, diseases of the genitourinary system, complications of pregnancy; childbirth; and the puerperium\n"
     ]
    }
   ],
   "source": [
    "def find_individual_member_health_status(member_id, health_desc_df):\n",
    "    try:\n",
    "        print(health_desc_df[health_status_df['member_id'] == member_id]['high_level_desc'].iloc[0])\n",
    "    except:\n",
    "        print(\"Member results not found\")\n",
    "    \n",
    "find_individual_member_health_status(single_member_id,health_status_df)"
   ]
  },
  {
   "cell_type": "code",
   "execution_count": 28,
   "metadata": {},
   "outputs": [],
   "source": [
    "#Uncomment to see the full records for this person\n",
    "#claim_clinical_prescription[claim_clinical_prescription['member_id'] ==single_member_id] "
   ]
  },
  {
   "cell_type": "markdown",
   "metadata": {},
   "source": [
    "***"
   ]
  },
  {
   "cell_type": "markdown",
   "metadata": {},
   "source": [
    "## Predicting Health Status for \"New Members\""
   ]
  },
  {
   "cell_type": "code",
   "execution_count": 29,
   "metadata": {},
   "outputs": [
    {
     "data": {
      "text/html": [
       "<div>\n",
       "<style scoped>\n",
       "    .dataframe tbody tr th:only-of-type {\n",
       "        vertical-align: middle;\n",
       "    }\n",
       "\n",
       "    .dataframe tbody tr th {\n",
       "        vertical-align: top;\n",
       "    }\n",
       "\n",
       "    .dataframe thead th {\n",
       "        text-align: right;\n",
       "    }\n",
       "</style>\n",
       "<table border=\"1\" class=\"dataframe\">\n",
       "  <thead>\n",
       "    <tr style=\"text-align: right;\">\n",
       "      <th></th>\n",
       "      <th>record_id</th>\n",
       "      <th>member_id</th>\n",
       "      <th>date_svc</th>\n",
       "      <th>ndc</th>\n",
       "      <th>drug_category</th>\n",
       "      <th>drug_group</th>\n",
       "      <th>drug_class</th>\n",
       "    </tr>\n",
       "  </thead>\n",
       "  <tbody>\n",
       "    <tr>\n",
       "      <th>1873473</th>\n",
       "      <td>8069952898672096371</td>\n",
       "      <td>M0160460</td>\n",
       "      <td>2016-12-05</td>\n",
       "      <td>93002601</td>\n",
       "      <td>Antihypertensives</td>\n",
       "      <td>Ace Inhibitors</td>\n",
       "      <td>Ace Inhibitors</td>\n",
       "    </tr>\n",
       "    <tr>\n",
       "      <th>576971</th>\n",
       "      <td>7403202619934856205</td>\n",
       "      <td>M0173396</td>\n",
       "      <td>2016-04-22</td>\n",
       "      <td>65862001501</td>\n",
       "      <td>Penicillins</td>\n",
       "      <td>Aminopenicillins</td>\n",
       "      <td>Aminopenicillins</td>\n",
       "    </tr>\n",
       "  </tbody>\n",
       "</table>\n",
       "</div>"
      ],
      "text/plain": [
       "                   record_id member_id    date_svc          ndc  \\\n",
       "1873473  8069952898672096371  M0160460  2016-12-05     93002601   \n",
       "576971   7403202619934856205  M0173396  2016-04-22  65862001501   \n",
       "\n",
       "             drug_category        drug_group        drug_class  \n",
       "1873473  Antihypertensives    Ace Inhibitors    Ace Inhibitors  \n",
       "576971         Penicillins  Aminopenicillins  Aminopenicillins  "
      ]
     },
     "execution_count": 29,
     "metadata": {},
     "output_type": "execute_result"
    }
   ],
   "source": [
    "#We are imagining these are \"new members\"\n",
    "sample_prescriptions = prescription_drugs.sample(1000, random_state=42)\n",
    "sample_prescriptions.head(2)"
   ]
  },
  {
   "cell_type": "code",
   "execution_count": 30,
   "metadata": {},
   "outputs": [],
   "source": [
    "#filtering apriori results for the ndc prescription list of the new member(s)\n",
    "def filter_apriori(rules, ndc_list):\n",
    "    all_ndc = ndc_list\n",
    "    all_ndc = [frozenset({f\"ndc_{x}\"}) for x in all_ndc]\n",
    "    return rules[rules['antecedents'].isin(all_ndc)]"
   ]
  },
  {
   "cell_type": "markdown",
   "metadata": {},
   "source": [
    "Demonstrating retrieving all of the learned rules for a particular drug(s) as the antecedent"
   ]
  },
  {
   "cell_type": "code",
   "execution_count": 31,
   "metadata": {},
   "outputs": [
    {
     "data": {
      "text/html": [
       "<div>\n",
       "<style scoped>\n",
       "    .dataframe tbody tr th:only-of-type {\n",
       "        vertical-align: middle;\n",
       "    }\n",
       "\n",
       "    .dataframe tbody tr th {\n",
       "        vertical-align: top;\n",
       "    }\n",
       "\n",
       "    .dataframe thead th {\n",
       "        text-align: right;\n",
       "    }\n",
       "</style>\n",
       "<table border=\"1\" class=\"dataframe\">\n",
       "  <thead>\n",
       "    <tr style=\"text-align: right;\">\n",
       "      <th></th>\n",
       "      <th>antecedents</th>\n",
       "      <th>consequents</th>\n",
       "      <th>count_antec</th>\n",
       "      <th>count_conseq</th>\n",
       "      <th>count</th>\n",
       "      <th>confidence</th>\n",
       "    </tr>\n",
       "  </thead>\n",
       "  <tbody>\n",
       "    <tr>\n",
       "      <th>197</th>\n",
       "      <td>(ndc_59310057922)</td>\n",
       "      <td>(ccs_1_desc_Neoplasms)</td>\n",
       "      <td>217</td>\n",
       "      <td>1723</td>\n",
       "      <td>10</td>\n",
       "      <td>0.046083</td>\n",
       "    </tr>\n",
       "    <tr>\n",
       "      <th>187</th>\n",
       "      <td>(ndc_59310057922)</td>\n",
       "      <td>(ccs_1_desc_Diseases of the digestive system)</td>\n",
       "      <td>217</td>\n",
       "      <td>1577</td>\n",
       "      <td>11</td>\n",
       "      <td>0.050691</td>\n",
       "    </tr>\n",
       "  </tbody>\n",
       "</table>\n",
       "</div>"
      ],
      "text/plain": [
       "           antecedents                                    consequents  \\\n",
       "197  (ndc_59310057922)                         (ccs_1_desc_Neoplasms)   \n",
       "187  (ndc_59310057922)  (ccs_1_desc_Diseases of the digestive system)   \n",
       "\n",
       "     count_antec  count_conseq  count  confidence  \n",
       "197          217          1723     10    0.046083  \n",
       "187          217          1577     11    0.050691  "
      ]
     },
     "execution_count": 31,
     "metadata": {},
     "output_type": "execute_result"
    }
   ],
   "source": [
    "test_drug_ndc = ['59310057922','65862001501']\n",
    "rules_table = filter_apriori(rules_larger, test_drug_ndc)\n",
    "rules_table.head(2) #remove .head to see more, #its confirmed this works for multiple drugs"
   ]
  },
  {
   "cell_type": "code",
   "execution_count": 32,
   "metadata": {},
   "outputs": [],
   "source": [
    "def predict_health_status_from_prescriptions(rules=rules_larger, new_member_prescription_df=None):\n",
    "    drug_list = new_member_prescription_df['ndc'].tolist()\n",
    "    rules_table = filter_apriori(rules_larger, drug_list)\n",
    "    consequents = rules_table['consequents']\n",
    "    new_member_prescription_df['ccs_1_desc']  = consequents\n",
    "    results= all_health_status(new_member_prescription_df)\n",
    "    return results"
   ]
  },
  {
   "cell_type": "code",
   "execution_count": 33,
   "metadata": {},
   "outputs": [],
   "source": [
    "new_members_health_status = predict_health_status_from_prescriptions(new_member_prescription_df=sample_prescriptions)"
   ]
  },
  {
   "cell_type": "code",
   "execution_count": 34,
   "metadata": {},
   "outputs": [
    {
     "data": {
      "text/html": [
       "<div>\n",
       "<style scoped>\n",
       "    .dataframe tbody tr th:only-of-type {\n",
       "        vertical-align: middle;\n",
       "    }\n",
       "\n",
       "    .dataframe tbody tr th {\n",
       "        vertical-align: top;\n",
       "    }\n",
       "\n",
       "    .dataframe thead th {\n",
       "        text-align: right;\n",
       "    }\n",
       "</style>\n",
       "<table border=\"1\" class=\"dataframe\">\n",
       "  <thead>\n",
       "    <tr style=\"text-align: right;\">\n",
       "      <th></th>\n",
       "      <th>member_id</th>\n",
       "      <th>ccs_1_desc</th>\n",
       "      <th>high_level_desc</th>\n",
       "    </tr>\n",
       "  </thead>\n",
       "  <tbody>\n",
       "    <tr>\n",
       "      <th>0</th>\n",
       "      <td>M0000001</td>\n",
       "      <td>[Certain conditions originating in the perinatal period, Diseases of the genitourinary system, Complications of pregnancy; childbirth; and the puerperium]</td>\n",
       "      <td>Member M0000001 had certain conditions originating in the perinatal period, diseases of the genitourinary system, complications of pregnancy; childbirth; and the puerperium</td>\n",
       "    </tr>\n",
       "    <tr>\n",
       "      <th>1</th>\n",
       "      <td>M0000002</td>\n",
       "      <td>[Symptoms; signs; and ill-defined conditions and factors influencing health status, Diseases of the circulatory system, Residual codes; unclassified; all E codes [259. and 260.], Mental Illness]</td>\n",
       "      <td>Member M0000002 had symptoms; signs; and ill-defined conditions and factors influencing health status, diseases of the circulatory system, residual codes; unclassified; all e codes [259. and 260.], mental illness</td>\n",
       "    </tr>\n",
       "  </tbody>\n",
       "</table>\n",
       "</div>"
      ],
      "text/plain": [
       "  member_id  \\\n",
       "0  M0000001   \n",
       "1  M0000002   \n",
       "\n",
       "                                                                                                                                                                                           ccs_1_desc  \\\n",
       "0                                          [Certain conditions originating in the perinatal period, Diseases of the genitourinary system, Complications of pregnancy; childbirth; and the puerperium]   \n",
       "1  [Symptoms; signs; and ill-defined conditions and factors influencing health status, Diseases of the circulatory system, Residual codes; unclassified; all E codes [259. and 260.], Mental Illness]   \n",
       "\n",
       "                                                                                                                                                                                                        high_level_desc  \n",
       "0                                          Member M0000001 had certain conditions originating in the perinatal period, diseases of the genitourinary system, complications of pregnancy; childbirth; and the puerperium  \n",
       "1  Member M0000002 had symptoms; signs; and ill-defined conditions and factors influencing health status, diseases of the circulatory system, residual codes; unclassified; all e codes [259. and 260.], mental illness  "
      ]
     },
     "execution_count": 34,
     "metadata": {},
     "output_type": "execute_result"
    }
   ],
   "source": [
    "new_members_health_status.head(2)"
   ]
  },
  {
   "cell_type": "markdown",
   "metadata": {},
   "source": [
    "### Here we go!\n",
    "We can look look at a member id from our sample and\n",
    "see if it can come up with sensible health conditions"
   ]
  },
  {
   "cell_type": "code",
   "execution_count": 35,
   "metadata": {},
   "outputs": [],
   "source": [
    "single_member_id = 'M0000001'"
   ]
  },
  {
   "cell_type": "code",
   "execution_count": 36,
   "metadata": {},
   "outputs": [
    {
     "name": "stdout",
     "output_type": "stream",
     "text": [
      "Member M0000001 had certain conditions originating in the perinatal period, diseases of the genitourinary system, complications of pregnancy; childbirth; and the puerperium\n"
     ]
    }
   ],
   "source": [
    "find_individual_member_health_status(single_member_id,new_members_health_status)\n",
    "#claim_clinical_prescription[claim_clinical_prescription['member_id']==single_member_id] #uncomment to see their original record"
   ]
  },
  {
   "cell_type": "markdown",
   "metadata": {},
   "source": [
    "### Testing Effectiveness on Held-Out Test Set"
   ]
  },
  {
   "cell_type": "markdown",
   "metadata": {},
   "source": [
    "A held-out test set was created before training the apriori algorithm.\n",
    "\n",
    "We can predict their health outcomes here (with limited quality due to training time)"
   ]
  },
  {
   "cell_type": "code",
   "execution_count": 37,
   "metadata": {},
   "outputs": [
    {
     "data": {
      "text/html": [
       "<div>\n",
       "<style scoped>\n",
       "    .dataframe tbody tr th:only-of-type {\n",
       "        vertical-align: middle;\n",
       "    }\n",
       "\n",
       "    .dataframe tbody tr th {\n",
       "        vertical-align: top;\n",
       "    }\n",
       "\n",
       "    .dataframe thead th {\n",
       "        text-align: right;\n",
       "    }\n",
       "</style>\n",
       "<table border=\"1\" class=\"dataframe\">\n",
       "  <thead>\n",
       "    <tr style=\"text-align: right;\">\n",
       "      <th></th>\n",
       "      <th>member_id</th>\n",
       "      <th>record_id_prescription</th>\n",
       "      <th>prescription_date</th>\n",
       "      <th>ndc</th>\n",
       "      <th>drug_category</th>\n",
       "      <th>drug_group</th>\n",
       "      <th>drug_class</th>\n",
       "    </tr>\n",
       "  </thead>\n",
       "  <tbody>\n",
       "    <tr>\n",
       "      <th>54509709</th>\n",
       "      <td>M0195787</td>\n",
       "      <td>8283166642040293454</td>\n",
       "      <td>2016-05-12</td>\n",
       "      <td>10702005601</td>\n",
       "      <td>Analgesics - Opioid</td>\n",
       "      <td>Opioid Agonists</td>\n",
       "      <td>Opioid Agonists</td>\n",
       "    </tr>\n",
       "    <tr>\n",
       "      <th>10938812</th>\n",
       "      <td>M0131375</td>\n",
       "      <td>5229971531470864098</td>\n",
       "      <td>2015-12-30</td>\n",
       "      <td>16252057350</td>\n",
       "      <td>Antihypertensives</td>\n",
       "      <td>Ace Inhibitors</td>\n",
       "      <td>Ace Inhibitors</td>\n",
       "    </tr>\n",
       "    <tr>\n",
       "      <th>35274986</th>\n",
       "      <td>M0028594</td>\n",
       "      <td>7870468309801513981</td>\n",
       "      <td>2016-09-09</td>\n",
       "      <td>59417010310</td>\n",
       "      <td>Adhd/Anti-narcolepsy/Anti-obesity/Anorexiants</td>\n",
       "      <td>Amphetamines</td>\n",
       "      <td>Amphetamines</td>\n",
       "    </tr>\n",
       "    <tr>\n",
       "      <th>29076468</th>\n",
       "      <td>M0265600</td>\n",
       "      <td>4511063108344509296</td>\n",
       "      <td>2016-04-22</td>\n",
       "      <td>50111064801</td>\n",
       "      <td>Antidepressants</td>\n",
       "      <td>Selective Serotonin Reuptake Inhibitors (SSRIs)</td>\n",
       "      <td>Selective Serotonin Reuptake Inhibitors (SSRIs)</td>\n",
       "    </tr>\n",
       "    <tr>\n",
       "      <th>20546696</th>\n",
       "      <td>M0267115</td>\n",
       "      <td>1069932649445796055</td>\n",
       "      <td>2015-09-09</td>\n",
       "      <td>93746598</td>\n",
       "      <td>Antihypertensives</td>\n",
       "      <td>Angiotensin Ii Receptor Antagonists</td>\n",
       "      <td>Angiotensin Ii Receptor Antagonists</td>\n",
       "    </tr>\n",
       "  </tbody>\n",
       "</table>\n",
       "</div>"
      ],
      "text/plain": [
       "         member_id  record_id_prescription prescription_date          ndc  \\\n",
       "54509709  M0195787     8283166642040293454        2016-05-12  10702005601   \n",
       "10938812  M0131375     5229971531470864098        2015-12-30  16252057350   \n",
       "35274986  M0028594     7870468309801513981        2016-09-09  59417010310   \n",
       "29076468  M0265600     4511063108344509296        2016-04-22  50111064801   \n",
       "20546696  M0267115     1069932649445796055        2015-09-09     93746598   \n",
       "\n",
       "                                          drug_category  \\\n",
       "54509709                            Analgesics - Opioid   \n",
       "10938812                              Antihypertensives   \n",
       "35274986  Adhd/Anti-narcolepsy/Anti-obesity/Anorexiants   \n",
       "29076468                                Antidepressants   \n",
       "20546696                              Antihypertensives   \n",
       "\n",
       "                                               drug_group  \\\n",
       "54509709                                  Opioid Agonists   \n",
       "10938812                                   Ace Inhibitors   \n",
       "35274986                                     Amphetamines   \n",
       "29076468  Selective Serotonin Reuptake Inhibitors (SSRIs)   \n",
       "20546696              Angiotensin Ii Receptor Antagonists   \n",
       "\n",
       "                                               drug_class  \n",
       "54509709                                  Opioid Agonists  \n",
       "10938812                                   Ace Inhibitors  \n",
       "35274986                                     Amphetamines  \n",
       "29076468  Selective Serotonin Reuptake Inhibitors (SSRIs)  \n",
       "20546696              Angiotensin Ii Receptor Antagonists  "
      ]
     },
     "execution_count": 37,
     "metadata": {},
     "output_type": "execute_result"
    }
   ],
   "source": [
    "final_test_df_inputs = test_df.drop(['record_id_claim','claim_date','diag1','diag','diag_desc','ccs_1_desc','ccs_2_desc','ccs_3_desc'],axis=1)\n",
    "final_test_df_inputs.head()"
   ]
  },
  {
   "cell_type": "code",
   "execution_count": 38,
   "metadata": {},
   "outputs": [],
   "source": [
    "new_members_health_status = predict_health_status_from_prescriptions(new_member_prescription_df=final_test_df_inputs)"
   ]
  },
  {
   "cell_type": "markdown",
   "metadata": {},
   "source": [
    "The function below selects a literally random member from the held-out test set"
   ]
  },
  {
   "cell_type": "code",
   "execution_count": 39,
   "metadata": {},
   "outputs": [
    {
     "name": "stdout",
     "output_type": "stream",
     "text": [
      "Member M0230246 had symptoms; signs; and ill-defined conditions and factors influencing health status, diseases of the musculoskeletal system and connective tissue, mental illness, neoplasms, infectious and parasitic diseases\n"
     ]
    }
   ],
   "source": [
    "random_test_member = final_test_df_inputs['member_id'].sample(1).iloc[0]\n",
    "find_individual_member_health_status(random_test_member,new_members_health_status)"
   ]
  },
  {
   "cell_type": "markdown",
   "metadata": {},
   "source": [
    "Here you can see the original held out test data for the prediction above"
   ]
  },
  {
   "cell_type": "code",
   "execution_count": 40,
   "metadata": {},
   "outputs": [
    {
     "data": {
      "text/html": [
       "<div>\n",
       "<style scoped>\n",
       "    .dataframe tbody tr th:only-of-type {\n",
       "        vertical-align: middle;\n",
       "    }\n",
       "\n",
       "    .dataframe tbody tr th {\n",
       "        vertical-align: top;\n",
       "    }\n",
       "\n",
       "    .dataframe thead th {\n",
       "        text-align: right;\n",
       "    }\n",
       "</style>\n",
       "<table border=\"1\" class=\"dataframe\">\n",
       "  <thead>\n",
       "    <tr style=\"text-align: right;\">\n",
       "      <th></th>\n",
       "      <th>member_id</th>\n",
       "      <th>ccs_1_desc</th>\n",
       "      <th>ccs_2_desc</th>\n",
       "      <th>ccs_3_desc</th>\n",
       "    </tr>\n",
       "  </thead>\n",
       "  <tbody>\n",
       "    <tr>\n",
       "      <th>17776284</th>\n",
       "      <td>M0230246</td>\n",
       "      <td>Symptoms; signs; and ill-defined conditions and factors influencing health status</td>\n",
       "      <td>Factors influencing health care</td>\n",
       "      <td>Medical examination/evaluation</td>\n",
       "    </tr>\n",
       "    <tr>\n",
       "      <th>17776762</th>\n",
       "      <td>M0230246</td>\n",
       "      <td>Mental Illness</td>\n",
       "      <td>Anxiety disorders [651]</td>\n",
       "      <td>Anxiety disorders</td>\n",
       "    </tr>\n",
       "    <tr>\n",
       "      <th>17777172</th>\n",
       "      <td>M0230246</td>\n",
       "      <td>Diseases of the musculoskeletal system and connective tissue</td>\n",
       "      <td>Other bone disease and musculoskeletal deformities [212.]</td>\n",
       "      <td>Other bone disease and musculoskeletal deformities</td>\n",
       "    </tr>\n",
       "    <tr>\n",
       "      <th>17776708</th>\n",
       "      <td>M0230246</td>\n",
       "      <td>Symptoms; signs; and ill-defined conditions and factors influencing health status</td>\n",
       "      <td>Factors influencing health care</td>\n",
       "      <td>Other screening for suspected conditions (not mental disorders or infectious disease)</td>\n",
       "    </tr>\n",
       "    <tr>\n",
       "      <th>17777334</th>\n",
       "      <td>M0230246</td>\n",
       "      <td>Neoplasms</td>\n",
       "      <td>Benign neoplasms</td>\n",
       "      <td>Other and unspecified benign neoplasm</td>\n",
       "    </tr>\n",
       "  </tbody>\n",
       "</table>\n",
       "</div>"
      ],
      "text/plain": [
       "         member_id  \\\n",
       "17776284  M0230246   \n",
       "17776762  M0230246   \n",
       "17777172  M0230246   \n",
       "17776708  M0230246   \n",
       "17777334  M0230246   \n",
       "\n",
       "                                                                                 ccs_1_desc  \\\n",
       "17776284  Symptoms; signs; and ill-defined conditions and factors influencing health status   \n",
       "17776762                                                                     Mental Illness   \n",
       "17777172                       Diseases of the musculoskeletal system and connective tissue   \n",
       "17776708  Symptoms; signs; and ill-defined conditions and factors influencing health status   \n",
       "17777334                                                                          Neoplasms   \n",
       "\n",
       "                                                         ccs_2_desc  \\\n",
       "17776284                            Factors influencing health care   \n",
       "17776762                                    Anxiety disorders [651]   \n",
       "17777172  Other bone disease and musculoskeletal deformities [212.]   \n",
       "17776708                            Factors influencing health care   \n",
       "17777334                                           Benign neoplasms   \n",
       "\n",
       "                                                                                     ccs_3_desc  \n",
       "17776284                                                         Medical examination/evaluation  \n",
       "17776762                                                                      Anxiety disorders  \n",
       "17777172                                     Other bone disease and musculoskeletal deformities  \n",
       "17776708  Other screening for suspected conditions (not mental disorders or infectious disease)  \n",
       "17777334                                                  Other and unspecified benign neoplasm  "
      ]
     },
     "execution_count": 40,
     "metadata": {},
     "output_type": "execute_result"
    }
   ],
   "source": [
    "test_df[test_df['member_id']==random_test_member][['member_id','ccs_1_desc','ccs_2_desc','ccs_3_desc']].head()"
   ]
  },
  {
   "cell_type": "markdown",
   "metadata": {},
   "source": [
    "## Future Work"
   ]
  },
  {
   "cell_type": "markdown",
   "metadata": {},
   "source": [
    "This approach **could greatly improve with more compute power**.\n",
    "\n",
    "A summary shown earlier showed that the mean \"confidence\" of the larger rules dataframe was roughly 0.22, with a standard deviation around 0.1 while the max was roughly 0.62 (where the best is 1). However, I only trained on 30,000 rows out of 54,434,584. This was for the sake of efficiency (and not crashing my laptop!). The algorithm only learned about 136 rules under these constraints."
   ]
  },
  {
   "cell_type": "markdown",
   "metadata": {},
   "source": [
    "Several more improvements would be made: \n",
    "\n",
    "* The rules that are applied to make the predictions can be filtered by several metrics to reduce false positives. These include the count of the final predictions, the count of the antecedent (ccs of the disease),\tthe count of the consequent (ndc prescription code), the joint count, the\tconfidence (probability of the consequent given the antecedent).\n",
    "\n",
    "* It may help to narrow the window of time between a claim date and a prescription date for a member such that unjustifiable associations would not be analyzed by the apriori algorithm. \n",
    "\n",
    "* Find out if there is a gaurantee that the claim date will always be after the prescription date for that condition that is justifying the prescription.\n",
    "\n",
    "* Evaluate over a large test set and also prepare it better so that the train and test data don't have the same member ids show up in both train and test (to avoid data leakage)\n",
    "\n",
    "* The final model can be selected based on the confusion matrix values for true positive, false positive, false negative, true negative and related metrics. \n",
    "\n",
    "* When evaluating over a large test set try exact match scoring, but also text similarity scoring like the BLEU score, and\n",
    "sentence similarity with LLM transformers like BERT from the HuggingFace library.\n",
    "\n",
    "***\n",
    "\n",
    "Outside data that could help:\n",
    "\n",
    "* A rules based dataset for what can be prescribed may already exist and be regulated by the government?\n",
    "\n",
    "* Existing medical knowledge about disease progression and what is prescribed at each stage of the disease can help predict\n",
    "  the prescriptions that may be taken as a function of time\n",
    "\n",
    "* The inclusion of demographic data or other data about members' background and health could also help for rationalized and predicting what will be prescribed for each condition."
   ]
  }
 ],
 "metadata": {
  "kernelspec": {
   "display_name": "Python 3 (ipykernel)",
   "language": "python",
   "name": "python3"
  },
  "language_info": {
   "codemirror_mode": {
    "name": "ipython",
    "version": 3
   },
   "file_extension": ".py",
   "mimetype": "text/x-python",
   "name": "python",
   "nbconvert_exporter": "python",
   "pygments_lexer": "ipython3",
   "version": "3.9.13"
  },
  "vscode": {
   "interpreter": {
    "hash": "65edd3023fa326c3b15e4e1644bf9fe74d1365997856f9a092c4140ee387a45a"
   }
  }
 },
 "nbformat": 4,
 "nbformat_minor": 2
}
